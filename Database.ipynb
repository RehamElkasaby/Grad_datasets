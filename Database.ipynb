{
 "cells": [
  {
   "cell_type": "code",
   "execution_count": 6,
   "metadata": {},
   "outputs": [
    {
     "data": {
      "text/plain": [
       "{'kkk': 1, 'lflf': 2}"
      ]
     },
     "execution_count": 6,
     "metadata": {},
     "output_type": "execute_result"
    }
   ],
   "source": [
    "list1 = [\"kkk\",\"lflf\"]\n",
    "list2 = [1,2]\n",
    "dict_try = dict(zip(list1, list2))\n",
    "dict_try"
   ]
  },
  {
   "cell_type": "code",
   "execution_count": 7,
   "metadata": {},
   "outputs": [
    {
     "name": "stdout",
     "output_type": "stream",
     "text": [
      "{'a': 1, 'b': 2, 'c': None}\n"
     ]
    }
   ],
   "source": [
    "from itertools import zip_longest\n",
    "\n",
    "list1 = ['a', 'b', 'c']\n",
    "list2 = [1, 2]\n",
    "\n",
    "# Zip the two lists together and convert to a dictionary, using None for missing values\n",
    "result_dict = dict(zip_longest(list1, list2))\n",
    "\n",
    "print(result_dict)"
   ]
  },
  {
   "cell_type": "code",
   "execution_count": 36,
   "metadata": {},
   "outputs": [],
   "source": [
    "import random\n",
    "from faker import Faker\n",
    "import numpy as np\n",
    "import pandas as pd\n",
    "import csv\n",
    "fake = Faker()\n"
   ]
  },
  {
   "cell_type": "code",
   "execution_count": 43,
   "metadata": {},
   "outputs": [],
   "source": [
    "# EmployeeHasCategory table\n",
    "# empolyee_id: int\n",
    "# category_id: int \n",
    "row_num = 100\n",
    "EmployeeHasCategory_features = ['employee_id','category_id']\n",
    "\n",
    "\n",
    "empolyee_id= [i for i in range(1,row_num+1,1)]\n",
    "category_id =[random.randint(1,82) for _ in range(100)]\n",
    "\n",
    "\n",
    "EmployeeHasCategory = dict(zip_longest(empolyee_id, category_id))\n",
    "#turn it to csv file\n",
    "with open('EmployeeHasCategory_table.csv',\"w\",newline='') as f:\n",
    "    writer = csv.DictWriter(f, fieldnames=EmployeeHasCategory_features)\n",
    "    writer.writeheader()\n",
    "    # Write the rows\n",
    "    for key, value in EmployeeHasCategory.items():\n",
    "        writer.writerow({'employee_id': key, 'category_id': value})\n"
   ]
  },
  {
   "cell_type": "code",
   "execution_count": 41,
   "metadata": {},
   "outputs": [],
   "source": [
    "# TaskHasEmployee table\n",
    "# task_id: int \n",
    "# empolyee_id: int\n",
    "emp_num = 100\n",
    "task_num = 500\n",
    "TaskHasEmployee_features = ['task_id','employee_id']\n",
    "\n",
    "task_id= [i for i in range(1,task_num+1,1)]\n",
    "empolyee_id =[random.randint(1,emp_num) for _ in range(500)]\n",
    "TaskHasEmployee = dict(zip_longest(task_id, empolyee_id))\n",
    "\n",
    "#turn it to csv file\n",
    "with open('TaskHasEmployee_table.csv',\"w\",newline='') as f:\n",
    "    writer = csv.DictWriter(f, fieldnames=TaskHasEmployee_features)\n",
    "    writer.writeheader()\n",
    "    # Write the rows\n",
    "    for key, value in TaskHasEmployee.items():\n",
    "        writer.writerow({'task_id': key, 'employee_id': value})\n",
    "\n"
   ]
  },
  {
   "cell_type": "code",
   "execution_count": 45,
   "metadata": {},
   "outputs": [
    {
     "name": "stdout",
     "output_type": "stream",
     "text": [
      "82\n",
      "82\n"
     ]
    }
   ],
   "source": [
    "freelancer_tags = {\n",
    "    \"carpentry\": [\"woodwork\", \"furniture\", \"construction\", \"custom builds\", \"repair\"],\n",
    "    \"plumbing\": [\"pipes\", \"water systems\", \"repairs\", \"installation\", \"maintenance\"],\n",
    "    \"painting\": [\"interior\", \"exterior\", \"residential\", \"commercial\", \"artistic\"],\n",
    "    \"cleaning\": [\"residential\", \"commercial\", \"deep cleaning\", \"maintenance\", \"sanitization\"],\n",
    "    \"moving\": [\"relocation\", \"packing\", \"transportation\", \"unpacking\", \"logistics\"],\n",
    "    \"delivery\": [\"courier\", \"packages\", \"same-day delivery\", \"express\", \"logistics\"],\n",
    "    \"shipping\": [\"freight\", \"logistics\", \"international\", \"domestic\", \"transportation\"],\n",
    "    \"car washing\": [\"auto detailing\", \"cleaning\", \"waxing\", \"interior cleaning\", \"maintenance\"],\n",
    "    \"home-made cooking\": [\"meals\", \"catering\", \"personal chef\", \"baking\", \"food delivery\"],\n",
    "    \"home maintenance\": [\"repairs\", \"upkeep\", \"inspection\", \"fixes\", \"handyman\"],\n",
    "    \"install air conditioner\": [\"HVAC\", \"cooling\", \"installation\", \"maintenance\", \"repair\"],\n",
    "    \"electrical help\": [\"wiring\", \"installation\", \"repairs\", \"maintenance\", \"troubleshooting\"],\n",
    "    \"furniture assembly\": [\"flat pack\", \"custom builds\", \"installation\", \"repair\", \"setup\"],\n",
    "    \"gardening services\": [\"landscaping\", \"maintenance\", \"planting\", \"design\", \"lawn care\"],\n",
    "    \"data entry\": [\"typing\", \"input\", \"database\", \"spreadsheets\", \"clerical\"],\n",
    "    \"virtual assistant\": [\"administration\", \"scheduling\", \"remote support\", \"management\", \"tasks\"],\n",
    "    \"sales\": [\"retail\", \"B2B\", \"B2C\", \"lead generation\", \"closing deals\"],\n",
    "    \"content creation\": [\"writing\", \"blogging\", \"videos\", \"social media\", \"graphics\"],\n",
    "    \"marketing\": [\"advertising\", \"SEO\", \"campaigns\", \"strategy\", \"promotion\"],\n",
    "    \"blockchain\":[\"distributed\",\"decentralized\",\"Ethereum\",\"network\",\"blockchain\"],\n",
    "    \"data analysis\": [\"statistics\", \"reports\", \"business intelligence\", \"insights\", \"trends\"],\n",
    "    \"video editing\": [\"post-production\", \"effects\", \"cutting\", \"splicing\", \"enhancement\"],\n",
    "    \"graphic designer\": [\"branding\", \"logos\", \"print\", \"digital\", \"illustrations\"],\n",
    "    \"call center\": [\"customer service\", \"support\", \"inbound\", \"outbound\", \"telemarketing\"],\n",
    "    \"chat support\": [\"customer service\", \"online help\", \"text support\", \"live chat\", \"assistance\"],\n",
    "    \"customer support\": [\"helpdesk\", \"technical support\", \"service\", \"assistance\", \"queries\"],\n",
    "    \"resume writing\": [\"CV\", \"cover letter\", \"job application\", \"career\", \"editing\"],\n",
    "    \"development\": [\"software\", \"applications\", \"web\", \"mobile\", \"programming\"],\n",
    "    \"legal writing services\": [\"contracts\", \"agreements\", \"documentation\", \"terms\", \"policies\"],\n",
    "    \"generative AI\": [\"machine learning\", \"neural networks\", \"automation\", \"scripting\", \"AI models\"],\n",
    "    \"web design\": [\"UI/UX\", \"front-end\", \"responsive\", \"SEO\", \"graphics\"],\n",
    "    \"SEO services\": [\"search engine optimization\", \"keywords\", \"rankings\", \"traffic\", \"content\"],\n",
    "    \"social media management\": [\"posts\", \"engagement\", \"ads\", \"analytics\", \"branding\"],\n",
    "    \"translation\": [\"language\", \"documents\", \"interpretation\", \"localization\", \"transcription\"],\n",
    "    \"transcription\": [\"audio to text\", \"video to text\", \"accuracy\", \"typing\", \"speed\"],\n",
    "    \"bookkeeping\": [\"accounts\", \"finance\", \"records\", \"expenses\", \"ledger\"],\n",
    "    \"accounting\": [\"taxes\", \"audit\", \"financial statements\", \"consulting\", \"management\"],\n",
    "    \"financial planning\": [\"budgeting\", \"investments\", \"retirement\", \"savings\", \"advice\"],\n",
    "    \"tax preparation\": [\"filing\", \"returns\", \"advice\", \"deductions\", \"compliance\"],\n",
    "    \"business consulting\": [\"strategy\", \"operations\", \"management\", \"growth\", \"efficiency\"],\n",
    "    \"life coaching\": [\"personal development\", \"motivation\", \"goals\", \"wellness\", \"advice\"],\n",
    "    \"career coaching\": [\"job search\", \"resume\", \"interviews\", \"networking\", \"development\"],\n",
    "    \"health coaching\": [\"fitness\", \"nutrition\", \"wellness\", \"exercise\", \"motivation\"],\n",
    "    \"nutrition consulting\": [\"diet\", \"meal planning\", \"health\", \"wellness\", \"advice\"],\n",
    "    \"dietitian services\": [\"nutrition\", \"meal plans\", \"health\", \"diet\", \"consultation\"],\n",
    "    \"personal training\": [\"fitness\", \"exercise\", \"workouts\", \"motivation\", \"coaching\"],\n",
    "    \"yoga instruction\": [\"flexibility\", \"relaxation\", \"mindfulness\", \"classes\", \"poses\"],\n",
    "    \"massage therapy\": [\"relaxation\", \"wellness\", \"therapy\", \"pain relief\", \"techniques\"],\n",
    "    \"pet sitting\": [\"care\", \"feeding\", \"walking\", \"playing\", \"overnight stays\"],\n",
    "    \"babysitting\": [\"childcare\", \"supervision\", \"activities\", \"feeding\", \"safety\"],\n",
    "    \"elder care\": [\"assistance\", \"companionship\", \"healthcare\", \"support\", \"activities\"],\n",
    "    \"tutoring\": [\"education\", \"subjects\", \"lessons\", \"support\", \"homework help\"],\n",
    "    \"test prep\": [\"exams\", \"SAT\", \"ACT\", \"GRE\", \"study guides\"],\n",
    "    \"language teaching\": [\"lessons\", \"tutoring\", \"ESL\", \"bilingual\", \"conversation\"],\n",
    "    \"art lessons\": [\"drawing\", \"painting\", \"technique\", \"crafts\", \"creativity\"],\n",
    "    \"photography\": [\"portraits\", \"events\", \"landscapes\", \"editing\", \"equipment\"],\n",
    "    \"videography\": [\"filming\", \"events\", \"editing\", \"production\", \"equipment\"],\n",
    "    \"animation\": [\"2D\", \"3D\", \"motion graphics\", \"visual effects\", \"storyboarding\"],\n",
    "    \"voice acting\": [\"narration\", \"characters\", \"commercials\", \"audiobooks\", \"dubbing\"],\n",
    "    \"event planning\": [\"coordination\", \"logistics\", \"management\", \"venues\", \"catering\"],\n",
    "    \"wedding planning\": [\"coordination\", \"venues\", \"catering\", \"decorations\", \"ceremony\"],\n",
    "    \"interior design\": [\"decorating\", \"space planning\", \"furniture\", \"color schemes\", \"renovation\"],\n",
    "    \"fashion design\": [\"clothing\", \"accessories\", \"sketching\", \"sewing\", \"runway\"],\n",
    "    \"styling\": [\"wardrobe\", \"personal shopping\", \"fashion\", \"makeovers\", \"consulting\"],\n",
    "    \"makeup artistry\": [\"beauty\", \"cosmetics\", \"application\", \"weddings\", \"events\"],\n",
    "    \"hairstyling\": [\"cuts\", \"color\", \"updos\", \"treatments\", \"salon\"],\n",
    "    \"barbering\": [\"cuts\", \"shaving\", \"trimming\", \"grooming\", \"salon\"],\n",
    "    \"catering\": [\"food\", \"events\", \"menus\", \"service\", \"cuisine\"],\n",
    "    \"food styling\": [\"presentation\", \"photography\", \"plating\", \"props\", \"design\"],\n",
    "    \"bartending\": [\"drinks\", \"service\", \"cocktails\", \"events\", \"flair\"],\n",
    "    \"technical writing\": [\"manuals\", \"guides\", \"documentation\", \"instructions\", \"reports\"],\n",
    "    \"grant writing\": [\"proposals\", \"funding\", \"non-profits\", \"applications\", \"research\"],\n",
    "    \"speech writing\": [\"public speaking\", \"presentations\", \"politics\", \"events\", \"scripts\"],\n",
    "    \"blog writing\": [\"content\", \"SEO\", \"articles\", \"engagement\", \"topics\"],\n",
    "    \"ghostwriting\": [\"books\", \"articles\", \"content\", \"confidential\", \"collaboration\"],\n",
    "    \"copy editing\": [\"proofreading\", \"revisions\", \"grammar\", \"style\", \"content\"],\n",
    "    \"proofreading\": [\"editing\", \"grammar\", \"spelling\", \"style\", \"accuracy\"],\n",
    "    \"public relations\": [\"media\", \"communications\", \"branding\", \"strategy\", \"events\"],\n",
    "    \"brand strategy\": [\"branding\", \"marketing\", \"identity\", \"development\", \"positioning\"],\n",
    "    \"market research\": [\"analysis\", \"surveys\", \"data collection\", \"reports\", \"strategy\"],\n",
    "    \"e-commerce management\": [\"online stores\", \"sales\", \"inventory\", \"platforms\", \"marketing\"],\n",
    "    \"online course creation\": [\"education\", \"lessons\", \"content\", \"platform\"]\n",
    "    }\n",
    "print(len(freelancer_tags))\n",
    "freelancer_categories = []\n",
    "for k , _ in freelancer_tags.items():\n",
    "    freelancer_categories.append(k)\n",
    "print(len(freelancer_categories))\n",
    "#freelancer_tags[freelancer_categories[0]]"
   ]
  },
  {
   "cell_type": "code",
   "execution_count": 52,
   "metadata": {},
   "outputs": [],
   "source": [
    "#DON'T RUN THIS AGAIN!!!!!!!!\n",
    "# Category table\n",
    "# id: int\n",
    "# name: char 45\n",
    "# parent: worker/developer\n",
    "category_num = 82\n",
    "id = [i for i in range(1,category_num+1)]\n",
    "name = freelancer_categories\n",
    "parent = [fake.random_element(['worker','developer'])for _ in range(1,category_num+1)] # if this cell is run again this attribute will have to be reviewed manually\n",
    "headers = ['id','name','parent']\n",
    "data = {\n",
    "    headers[0]: id,\n",
    "    headers[1]: name,\n",
    "    headers[2]: parent # need to review this manually\n",
    "}\n",
    "df_category = pd.DataFrame(data).set_index('id')\n",
    "df_category\n",
    "df_category.to_csv(\"category.csv\")"
   ]
  },
  {
   "cell_type": "code",
   "execution_count": 76,
   "metadata": {},
   "outputs": [
    {
     "name": "stdout",
     "output_type": "stream",
     "text": [
      "Good feedback: I found the service to be fantastic and the overall experience was superb.\n",
      "Bad feedback: I found the service to be poor and the overall experience was subpar.\n"
     ]
    }
   ],
   "source": [
    "import random\n",
    "\n",
    "# Lists of words/phrases\n",
    "good_words = [\"excellent\", \"amazing\", \"fantastic\", \"great\", \"superb\", \"satisfactory\", \"pleasant\", \"wonderful\", \"outstanding\"]\n",
    "bad_words = [\"poor\", \"terrible\", \"bad\", \"unsatisfactory\", \"disappointing\", \"subpar\", \"horrible\", \"dreadful\", \"awful\"]\n",
    "\n",
    "# Example reviews templates\n",
    "good_reviews = [\n",
    "    \"The service was {} and I had a {} experience.\",\n",
    "    \"I found the service to be {} and the overall experience was {}.\",\n",
    "    \"An {} service with {} results.\",\n",
    "    \"{} experience! The service was {}.\",\n",
    "    \"It was an {} service. Truly a {} time.\"\n",
    "]\n",
    "\n",
    "bad_reviews = [\n",
    "    \"The service was {} and I had a {} experience.\",\n",
    "    \"I found the service to be {} and the overall experience was {}.\",\n",
    "    \"A {} service with {} results.\",\n",
    "    \"{} experience! The service was {}.\",\n",
    "    \"It was a {} service. Truly a {} time.\"\n",
    "]\n",
    "\n",
    "def generate_feedback(good=True):\n",
    "    if good:\n",
    "        review_template = random.choice(good_reviews)\n",
    "        word1 = random.choice(good_words)\n",
    "        word2 = random.choice(good_words)\n",
    "    else:\n",
    "        review_template = random.choice(bad_reviews)\n",
    "        word1 = random.choice(bad_words)\n",
    "        word2 = random.choice(bad_words)\n",
    "    \n",
    "    return review_template.format(word1, word2)\n",
    "\n",
    "# Generate random good and bad feedback\n",
    "print(\"Good feedback:\", generate_feedback(good=True))\n",
    "print(\"Bad feedback:\", generate_feedback(good=False))\n"
   ]
  },
  {
   "cell_type": "code",
   "execution_count": 80,
   "metadata": {},
   "outputs": [],
   "source": [
    "# reviews table\n",
    "# id: int\n",
    "# text: char 200\n",
    "# rating: int(1:10)\n",
    "# reviews should be the same number as tasks\n",
    "reviews_num = task_num # 500\n",
    "text = []\n",
    "id = [i for i in range(1,reviews_num+1,1)]\n",
    "rating = [random.randint(1,10) for _ in range(1,reviews_num+1,1)]\n",
    "for i in rating:\n",
    "    if i >5:\n",
    "        text.append(generate_feedback(good=True))\n",
    "    else:\n",
    "        text.append(generate_feedback(good=False))\n",
    "headers = ['id','text','rating']\n",
    "data = {\n",
    "    headers[0]: id,\n",
    "    headers[1]: text,\n",
    "    headers[2]: rating # need to review this manually\n",
    "}\n",
    "df_reviews = pd.DataFrame(data).set_index('id')\n",
    "df_reviews.to_csv(\"reviews.csv\")\n",
    "        \n"
   ]
  },
  {
   "cell_type": "code",
   "execution_count": null,
   "metadata": {},
   "outputs": [],
   "source": []
  },
  {
   "cell_type": "code",
   "execution_count": null,
   "metadata": {},
   "outputs": [],
   "source": []
  }
 ],
 "metadata": {
  "kernelspec": {
   "display_name": "Python 3",
   "language": "python",
   "name": "python3"
  },
  "language_info": {
   "codemirror_mode": {
    "name": "ipython",
    "version": 3
   },
   "file_extension": ".py",
   "mimetype": "text/x-python",
   "name": "python",
   "nbconvert_exporter": "python",
   "pygments_lexer": "ipython3",
   "version": "3.11.0"
  }
 },
 "nbformat": 4,
 "nbformat_minor": 2
}
