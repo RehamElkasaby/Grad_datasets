{
 "cells": [
  {
   "cell_type": "markdown",
   "metadata": {},
   "source": [
    "# PLAN\n",
    "1. Get number of rows\n",
    "2. Create columns/features (Faker/random)\n",
    "3. Create dictionary[feature name] = feature\n",
    "4. Convert to DataFrame (pandas)\n",
    "5. Convert to CSV\n",
    "   \n",
    "# PLAN version 2\n",
    "use faker and csv library\n",
    "1. get a list for possible values of each feature using Chatgpt \n",
    "2. make a provider for each feature using that list (not id)\n",
    "3. make a list for features names to act as the header\n",
    "4. use the csv class to create and write the csv file\n"
   ]
  },
  {
   "cell_type": "code",
   "execution_count": 86,
   "metadata": {},
   "outputs": [],
   "source": [
    "import faker\n",
    "import pandas as pd\n",
    "import random # used for numeriacal data like id,price\n",
    "import datetime\n",
    "import csv\n",
    "from faker.providers import DynamicProvider # Dynamic providers can read elements from an external source.\n",
    "\n"
   ]
  },
  {
   "cell_type": "markdown",
   "metadata": {},
   "source": [
    "### Make lists"
   ]
  },
  {
   "cell_type": "code",
   "execution_count": 87,
   "metadata": {},
   "outputs": [
    {
     "name": "stdout",
     "output_type": "stream",
     "text": [
      "196\n"
     ]
    }
   ],
   "source": [
    "arabic_names = [\n",
    "    \"Aaliyah\", \"Ahlam\", \"Aisha\", \"Alia\", \"Amal\", \"Amina\", \"Anisa\", \"Asma\", \"Ayah\",\"Aya\",\"Aamirah\",\n",
    "    \"Basma\", \"Bayan\", \"Bushra\", \"Buthayna\",\"Bessan\",\n",
    "    \"Dalia\", \"Dana\", \"Dina\", \"Duaa\",\n",
    "    \"Elham\", \"Eman\", \"Esra\",\n",
    "    \"Farah\", \"Fatima\", \"Fayza\",\"Farha\",\n",
    "    \"Ghada\", \"Ghadeer\",\"Gamila\",\"Ghufran\",\n",
    "    \"Hala\", \"Hanan\", \"Haya\", \"Heba\", \"Hind\", \"Huda\",\"Houda\",\"Hager\",\n",
    "    \"Iman\", \"Inas\",\"Ibtisam\",\n",
    "    \"Jana\", \"Jasmine\", \"Jumana\",\n",
    "    \"Khadija\", \"Kholoud\",\"\tLamya\"\n",
    "    \"Laila\", \"Lana\", \"Layla\", \"Lina\",\n",
    "    \"Maha\", \"Mariam\", \"Mays\", \"Mona\", \"Muna\",\n",
    "    \"Nadia\", \"Nadine\", \"Najwa\", \"Nour\",\n",
    "    \"Ola\",\"Omema\",\"Omnia\",\n",
    "    \"Rania\", \"Reem\", \"Riham\", \"Ruba\", \"Rula\",\"Reham\",\"Rahma\",\n",
    "    \"Safa\", \"Salma\", \"Samira\", \"Sara\", \"Sarah\", \"Shaima\", \"Shams\", \"Shorouq\",\n",
    "    \"Tamara\", \"Tasneem\", \"Thuraya\",\n",
    "    \"Wafa\", \"Walaa\", \"Ward\",\n",
    "    \"Yasmin\", \"Yasmine\", \"Yusra\",\"Youmna\",\n",
    "    \"Zahra\", \"Zaina\", \"Zainab\",\"Zumurrud\",\n",
    "    \"Abdullah\", \"Adel\", \"Ahmed\", \"Ali\", \"Amir\", \"Anas\", \"Ayman\",\n",
    "    \"Bashar\", \"Bassam\", \"Bilal\",\n",
    "    \"Casim\", \"Chakir\",\"Careem\",\n",
    "    \"Dawood\", \"Daaim\", \"Diya\",\n",
    "    \"Ehab\", \"Emad\", \"Eyad\",\"Ebrahim\",\"Essam\",\n",
    "    \"Fadi\", \"Faisal\", \"Farid\", \"Fouad\",\n",
    "    \"Gamal\", \"Ghassan\",\"Galal\",\n",
    "    \"Hadi\", \"Hamza\", \"Hasan\", \"Hassan\", \"Hatem\", \"Hazem\", \"Hisham\",\"Hussain\",\n",
    "    \"Ibrahim\", \"Imad\", \"Ismail\",\"Idris\",\"Issam\",\n",
    "    \"Jamal\", \"Jawad\", \"Jibril\",\"Jalal\",\"Jad\",\"Junaid\",\n",
    "    \"Kamal\", \"Karim\", \"Khaled\",\"Kareem\",\n",
    "    \"Laith\", \"Lutfi\",\n",
    "    \"Mahmoud\", \"Majid\", \"Marwan\", \"Mazen\", \"Mohamed\", \"Mustafa\",\"Mohammad\",\"Muhammad\",\n",
    "    \"Nabil\", \"Nadeem\", \"Nasser\", \"Nader\",\n",
    "    \"Omar\", \"Osama\", \"Othman\",\"Omran\",\"Obaidiyah\",\n",
    "    \"Qasim\", \"Qaseem\",\n",
    "    \"Rami\", \"Rashid\", \"Riad\", \"Riyad\",\"Reda\",\"Raheem\",\n",
    "    \"Saad\", \"Saeed\", \"Sami\", \"Samir\", \"Selim\", \"Suleiman\",\n",
    "    \"Tariq\", \"Tawfiq\", \"Tamer\",\"Taha\",\n",
    "    \"Umar\",\"Usman\",\n",
    "    \"Waleed\", \"Walid\",\n",
    "    \"Yahia\", \"Yasir\", \"Youssef\",\"Yusef\",\"Yazan\",\"Yoonus\",\n",
    "    \"Zaid\", \"Zakariya\", \"Ziyad\",\"Zain\",\"Zain\",\"Zaki\"\n",
    "]\n",
    "print(len(arabic_names)) # 158"
   ]
  },
  {
   "cell_type": "code",
   "execution_count": 88,
   "metadata": {},
   "outputs": [
    {
     "name": "stdout",
     "output_type": "stream",
     "text": [
      "209\n"
     ]
    }
   ],
   "source": [
    "arabic_last_names =[\"Abdullah\", \"Adel\", \"Ahmed\", \"Ali\", \"Amir\", \"Anas\", \"Ayman\",\n",
    "    \"Bashar\", \"Bassam\", \"Bilal\",\n",
    "    \"Casim\", \"Chakir\",\"Careem\",\n",
    "    \"Dawood\", \"Daaim\", \"Diya\",\n",
    "    \"Ehab\", \"Emad\", \"Eyad\",\"Ebrahim\",\"Essam\",\n",
    "    \"Fadi\", \"Faisal\", \"Farid\", \"Fouad\",\n",
    "    \"Gamal\", \"Ghassan\",\"Galal\",\n",
    "    \"Hadi\", \"Hamza\", \"Hasan\", \"Hassan\", \"Hatem\", \"Hazem\", \"Hisham\",\"Hussain\",\n",
    "    \"Ibrahim\", \"Imad\", \"Ismail\",\"Idris\",\"Issam\",\n",
    "    \"Jamal\", \"Jawad\", \"Jibril\",\"Jalal\",\"Jad\",\"Junaid\",\n",
    "    \"Kamal\", \"Karim\", \"Khaled\",\"Kareem\",\n",
    "    \"Laith\", \"Lutfi\",\n",
    "    \"Mahmoud\", \"Majid\", \"Marwan\", \"Mazen\", \"Mohamed\", \"Mustafa\",\"Mohammad\",\"Muhammad\",\n",
    "    \"Nabil\", \"Nadeem\", \"Nasser\", \"Nader\",\n",
    "    \"Omar\", \"Osama\", \"Othman\",\"Omran\",\"Obaidiyah\",\n",
    "    \"Qasim\", \"Qaseem\",\n",
    "    \"Rami\", \"Rashid\", \"Riad\", \"Riyad\",\"Reda\",\"Raheem\"\n",
    "    \"Saad\", \"Saeed\", \"Sami\", \"Samir\", \"Selim\", \"Suleiman\",\"Saad\",\n",
    "    \"Tariq\", \"Tawfiq\", \"Tamer\",\"Taha\",\n",
    "    \"Umar\",\"Usman\",\n",
    "    \"Waleed\", \"Walid\",\n",
    "    \"Yahia\", \"Yasir\", \"Youssef\",\"Yusef\",\"Yazan\",\"Yoonus\",\n",
    "    \"Zaid\", \"Zakariya\", \"Ziyad\",\"Zain\",\"Zain\",\"Zaki\",'Ahmad','Ahmed','Amir','Ameer','Ali','Ammar','Ayman','Aziz',\n",
    "               'Bilal','Careem','Daaim','Ebrahim','Emad','Essam','Ibrahim','Fadi','Fadee',\n",
    "               'Galal','Ghanim','Habeeb','Hafez','Hakeem','Hamza','Hasan',\n",
    "               'Hussein','Hussain','Idrees','Idris','Imad','Ismail','Issam',\n",
    "               'Jad','Jalal','Jihad','Junaid','Kamal','Kamil','Kalil','Kareem',\n",
    "               'Karim','Khalid','Kadeer','Laith','Malik','Mahmoud','Maleek',\n",
    "               'Mustafa','Mohammad','mohamed','Mohammed','Nader','Nabil','Naadim',\n",
    "               'Omar','Omran','Ossama','Ossamah','Qasim','Qaseem','Raiyan','Rayan','Reda','Raheem'\n",
    "               'Saif','Suliman','Salem','Saad','salah','Taha','Tariq','Taher','Taheer',\n",
    "               'Umar','Usman','Waleed','Yazan','Yasin','Yassin','Yousef','Yusef','Yoonus',\n",
    "               'Zain','Zaki','Zaid',    \"Abbas\", \"Abdul\", \"Abdullah\", \"Adel\", \"Ahmad\", \"Ahsan\", \"Akhtar\", \"Ali\", \"Al-Rashid\",\n",
    "    \"Amin\", \"Assad\", \"Ayad\",\n",
    "    \"Badr\", \"Bakir\", \"Barakat\", \"Basel\", \"Basha\",\n",
    "    \"Daoud\", \"Darwish\",\"Doud\",\n",
    "    \"Eid\", \"El-Amin\", \"El-Sayed\", \"Essam\",\n",
    "    \"Fahad\", \"Fakhoury\", \"Faraj\", \"Farouk\", \"Fathi\", \"Fayez\",\n",
    "    \"Gaber\", \"Gad\", \"Ghanem\", \"Ghassan\",\n",
    "    \"Habib\", \"Haddad\", \"Haj\", \"Hakim\", \"Halabi\", \"Hamdan\", \"Hassan\", \"Hatem\", \"Hussein\",\n",
    "    \"Ibrahim\", \"Ismail\", \"Issa\",\n",
    "    \"Jaber\", \"Jamal\", \"Jarrah\", \"Jibril\",\n",
    "    \"Kamal\", \"Karim\", \"Khaled\", \"Khatib\", \"Khoury\",\n",
    "    \"Latif\", \"Lutfi\",\n",
    "    \"Mansour\", \"Masri\", \"Matar\", \"Mazen\", \"Mustafa\",\n",
    "    \"Nader\", \"Naji\", \"Najjar\", \"Nasr\",\n",
    "    \"Omar\", \"Osman\",\n",
    "    \"Qasim\", \"Quraishi\",\n",
    "    \"Rafiq\", \"Rahman\", \"Rajab\", \"Ramadan\", \"Rashid\", \"Rizk\",\n",
    "    \"Saad\", \"Sabbagh\", \"Saleh\", \"Salim\", \"Samar\", \"Shadid\", \"Shammas\", \"Shami\", \"Shara\",\n",
    "    \"Tawfiq\", \"Tayeb\", \"Touma\",\n",
    "    \"Wahab\", \"Wakil\", \"Wali\",\n",
    "    \"Yazid\", \"Youssef\", \"Younes\",\n",
    "    \"Zaidan\", \"Zakaria\", \"Zayed\", \"Zein\"]\n",
    "set_arabic_last_name = set(arabic_last_names)\n",
    "arabic_last_names = list(set_arabic_last_name)\n",
    "print(len(arabic_last_names))"
   ]
  },
  {
   "cell_type": "code",
   "execution_count": 89,
   "metadata": {},
   "outputs": [
    {
     "name": "stdout",
     "output_type": "stream",
     "text": [
      "81\n",
      "81\n"
     ]
    },
    {
     "data": {
      "text/plain": [
       "['woodwork', 'furniture', 'construction', 'custom builds', 'repair']"
      ]
     },
     "execution_count": 89,
     "metadata": {},
     "output_type": "execute_result"
    }
   ],
   "source": [
    "freelancer_tags = {\n",
    "    \"carpentry\": [\"woodwork\", \"furniture\", \"construction\", \"custom builds\", \"repair\"],\n",
    "    \"plumbing\": [\"pipes\", \"water systems\", \"repairs\", \"installation\", \"maintenance\"],\n",
    "    \"painting\": [\"interior\", \"exterior\", \"residential\", \"commercial\", \"artistic\"],\n",
    "    \"cleaning\": [\"residential\", \"commercial\", \"deep cleaning\", \"maintenance\", \"sanitization\"],\n",
    "    \"moving\": [\"relocation\", \"packing\", \"transportation\", \"unpacking\", \"logistics\"],\n",
    "    \"delivery\": [\"courier\", \"packages\", \"same-day delivery\", \"express\", \"logistics\"],\n",
    "    \"shipping\": [\"freight\", \"logistics\", \"international\", \"domestic\", \"transportation\"],\n",
    "    \"car washing\": [\"auto detailing\", \"cleaning\", \"waxing\", \"interior cleaning\", \"maintenance\"],\n",
    "    \"home-made cooking\": [\"meals\", \"catering\", \"personal chef\", \"baking\", \"food delivery\"],\n",
    "    \"home maintenance\": [\"repairs\", \"upkeep\", \"inspection\", \"fixes\", \"handyman\"],\n",
    "    \"install air conditioner\": [\"HVAC\", \"cooling\", \"installation\", \"maintenance\", \"repair\"],\n",
    "    \"electrical help\": [\"wiring\", \"installation\", \"repairs\", \"maintenance\", \"troubleshooting\"],\n",
    "    \"furniture assembly\": [\"flat pack\", \"custom builds\", \"installation\", \"repair\", \"setup\"],\n",
    "    \"gardening services\": [\"landscaping\", \"maintenance\", \"planting\", \"design\", \"lawn care\"],\n",
    "    \"data entry\": [\"typing\", \"input\", \"database\", \"spreadsheets\", \"clerical\"],\n",
    "    \"virtual assistant\": [\"administration\", \"scheduling\", \"remote support\", \"management\", \"tasks\"],\n",
    "    \"sales\": [\"retail\", \"B2B\", \"B2C\", \"lead generation\", \"closing deals\"],\n",
    "    \"content creation\": [\"writing\", \"blogging\", \"videos\", \"social media\", \"graphics\"],\n",
    "    \"marketing\": [\"advertising\", \"SEO\", \"campaigns\", \"strategy\", \"promotion\"],\n",
    "    \"data analysis\": [\"statistics\", \"reports\", \"business intelligence\", \"insights\", \"trends\"],\n",
    "    \"video editing\": [\"post-production\", \"effects\", \"cutting\", \"splicing\", \"enhancement\"],\n",
    "    \"graphic designer\": [\"branding\", \"logos\", \"print\", \"digital\", \"illustrations\"],\n",
    "    \"call center\": [\"customer service\", \"support\", \"inbound\", \"outbound\", \"telemarketing\"],\n",
    "    \"chat support\": [\"customer service\", \"online help\", \"text support\", \"live chat\", \"assistance\"],\n",
    "    \"customer support\": [\"helpdesk\", \"technical support\", \"service\", \"assistance\", \"queries\"],\n",
    "    \"resume writing\": [\"CV\", \"cover letter\", \"job application\", \"career\", \"editing\"],\n",
    "    \"development\": [\"software\", \"applications\", \"web\", \"mobile\", \"programming\"],\n",
    "    \"legal writing services\": [\"contracts\", \"agreements\", \"documentation\", \"terms\", \"policies\"],\n",
    "    \"generative AI\": [\"machine learning\", \"neural networks\", \"automation\", \"scripting\", \"AI models\"],\n",
    "    \"web design\": [\"UI/UX\", \"front-end\", \"responsive\", \"SEO\", \"graphics\"],\n",
    "    \"SEO services\": [\"search engine optimization\", \"keywords\", \"rankings\", \"traffic\", \"content\"],\n",
    "    \"social media management\": [\"posts\", \"engagement\", \"ads\", \"analytics\", \"branding\"],\n",
    "    \"translation\": [\"language\", \"documents\", \"interpretation\", \"localization\", \"transcription\"],\n",
    "    \"transcription\": [\"audio to text\", \"video to text\", \"accuracy\", \"typing\", \"speed\"],\n",
    "    \"bookkeeping\": [\"accounts\", \"finance\", \"records\", \"expenses\", \"ledger\"],\n",
    "    \"accounting\": [\"taxes\", \"audit\", \"financial statements\", \"consulting\", \"management\"],\n",
    "    \"financial planning\": [\"budgeting\", \"investments\", \"retirement\", \"savings\", \"advice\"],\n",
    "    \"tax preparation\": [\"filing\", \"returns\", \"advice\", \"deductions\", \"compliance\"],\n",
    "    \"business consulting\": [\"strategy\", \"operations\", \"management\", \"growth\", \"efficiency\"],\n",
    "    \"life coaching\": [\"personal development\", \"motivation\", \"goals\", \"wellness\", \"advice\"],\n",
    "    \"career coaching\": [\"job search\", \"resume\", \"interviews\", \"networking\", \"development\"],\n",
    "    \"health coaching\": [\"fitness\", \"nutrition\", \"wellness\", \"exercise\", \"motivation\"],\n",
    "    \"nutrition consulting\": [\"diet\", \"meal planning\", \"health\", \"wellness\", \"advice\"],\n",
    "    \"dietitian services\": [\"nutrition\", \"meal plans\", \"health\", \"diet\", \"consultation\"],\n",
    "    \"personal training\": [\"fitness\", \"exercise\", \"workouts\", \"motivation\", \"coaching\"],\n",
    "    \"yoga instruction\": [\"flexibility\", \"relaxation\", \"mindfulness\", \"classes\", \"poses\"],\n",
    "    \"massage therapy\": [\"relaxation\", \"wellness\", \"therapy\", \"pain relief\", \"techniques\"],\n",
    "    \"pet sitting\": [\"care\", \"feeding\", \"walking\", \"playing\", \"overnight stays\"],\n",
    "    \"babysitting\": [\"childcare\", \"supervision\", \"activities\", \"feeding\", \"safety\"],\n",
    "    \"elder care\": [\"assistance\", \"companionship\", \"healthcare\", \"support\", \"activities\"],\n",
    "    \"tutoring\": [\"education\", \"subjects\", \"lessons\", \"support\", \"homework help\"],\n",
    "    \"test prep\": [\"exams\", \"SAT\", \"ACT\", \"GRE\", \"study guides\"],\n",
    "    \"language teaching\": [\"lessons\", \"tutoring\", \"ESL\", \"bilingual\", \"conversation\"],\n",
    "    \"art lessons\": [\"drawing\", \"painting\", \"technique\", \"crafts\", \"creativity\"],\n",
    "    \"photography\": [\"portraits\", \"events\", \"landscapes\", \"editing\", \"equipment\"],\n",
    "    \"videography\": [\"filming\", \"events\", \"editing\", \"production\", \"equipment\"],\n",
    "    \"animation\": [\"2D\", \"3D\", \"motion graphics\", \"visual effects\", \"storyboarding\"],\n",
    "    \"voice acting\": [\"narration\", \"characters\", \"commercials\", \"audiobooks\", \"dubbing\"],\n",
    "    \"event planning\": [\"coordination\", \"logistics\", \"management\", \"venues\", \"catering\"],\n",
    "    \"wedding planning\": [\"coordination\", \"venues\", \"catering\", \"decorations\", \"ceremony\"],\n",
    "    \"interior design\": [\"decorating\", \"space planning\", \"furniture\", \"color schemes\", \"renovation\"],\n",
    "    \"fashion design\": [\"clothing\", \"accessories\", \"sketching\", \"sewing\", \"runway\"],\n",
    "    \"styling\": [\"wardrobe\", \"personal shopping\", \"fashion\", \"makeovers\", \"consulting\"],\n",
    "    \"makeup artistry\": [\"beauty\", \"cosmetics\", \"application\", \"weddings\", \"events\"],\n",
    "    \"hairstyling\": [\"cuts\", \"color\", \"updos\", \"treatments\", \"salon\"],\n",
    "    \"barbering\": [\"cuts\", \"shaving\", \"trimming\", \"grooming\", \"salon\"],\n",
    "    \"catering\": [\"food\", \"events\", \"menus\", \"service\", \"cuisine\"],\n",
    "    \"food styling\": [\"presentation\", \"photography\", \"plating\", \"props\", \"design\"],\n",
    "    \"bartending\": [\"drinks\", \"service\", \"cocktails\", \"events\", \"flair\"],\n",
    "    \"technical writing\": [\"manuals\", \"guides\", \"documentation\", \"instructions\", \"reports\"],\n",
    "    \"grant writing\": [\"proposals\", \"funding\", \"non-profits\", \"applications\", \"research\"],\n",
    "    \"speech writing\": [\"public speaking\", \"presentations\", \"politics\", \"events\", \"scripts\"],\n",
    "    \"blog writing\": [\"content\", \"SEO\", \"articles\", \"engagement\", \"topics\"],\n",
    "    \"ghostwriting\": [\"books\", \"articles\", \"content\", \"confidential\", \"collaboration\"],\n",
    "    \"copy editing\": [\"proofreading\", \"revisions\", \"grammar\", \"style\", \"content\"],\n",
    "    \"proofreading\": [\"editing\", \"grammar\", \"spelling\", \"style\", \"accuracy\"],\n",
    "    \"public relations\": [\"media\", \"communications\", \"branding\", \"strategy\", \"events\"],\n",
    "    \"brand strategy\": [\"branding\", \"marketing\", \"identity\", \"development\", \"positioning\"],\n",
    "    \"market research\": [\"analysis\", \"surveys\", \"data collection\", \"reports\", \"strategy\"],\n",
    "    \"e-commerce management\": [\"online stores\", \"sales\", \"inventory\", \"platforms\", \"marketing\"],\n",
    "    \"online course creation\": [\"education\", \"lessons\", \"content\", \"platform\"]\n",
    "    }\n",
    "print(len(freelancer_tags))\n",
    "freelancer_categories = []\n",
    "for k , _ in freelancer_tags.items():\n",
    "    freelancer_categories.append(k)\n",
    "print(len(freelancer_categories))\n",
    "freelancer_tags[freelancer_categories[0]]"
   ]
  },
  {
   "cell_type": "code",
   "execution_count": 90,
   "metadata": {},
   "outputs": [
    {
     "name": "stdout",
     "output_type": "stream",
     "text": [
      "26\n",
      "El Hamam\n"
     ]
    }
   ],
   "source": [
    "egypt_governorates = {\n",
    "    \"Cairo\": [\"Cairo\", \"Giza\", \"Shubra El-Kheima\"],\n",
    "    \"Alexandria\": [\"Alexandria\", \"Borg El Arab\", \"Kafr Abdou\"],\n",
    "    \"Port Said\": [\"Port Said\", \"Port Fuad\", \"Al-Zohra\"],\n",
    "    \"Suez\": [\"Suez\", \"Ataqah\", \"Ismailia\"],\n",
    "    \"Ismailia\": [\"Ismailia\", \"Fayed\", \"Tal El Kabir\"],\n",
    "    \"Damietta\": [\"Damietta\", \"Kafr El-Battikh\", \"Faraskur\"],\n",
    "    \"Dakahlia\": [\"Mansoura\", \"Talkha\", \"Mitt Ghamr\"],\n",
    "    \"Kafr El Sheikh\": [\"Kafr El Sheikh\", \"Desouk\", \"Ras El Bar\"],\n",
    "    \"Gharbia\": [\"Tanta\", \"Kafr El-Zayat\", \"Zefta\"],\n",
    "    \"Monufia\": [\"Shibin El Kom\", \"Ashmoun\", \"Sers El-Lyan\"],\n",
    "    \"Qalyubia\": [\"Banha\", \"Qalyub\", \"Shubra El-Kheima\"],\n",
    "    \"Sharqia\": [\"Zagazig\", \"Abu Kebir\", \"Ain Shams\"],\n",
    "    \"North Sinai\": [\"Arish\", \"Rafah\", \"Bir al-Abed\"],\n",
    "    \"South Sinai\": [\"Sharm El Sheikh\", \"Dahab\", \"Nuweiba\"],\n",
    "    \"Giza\": [\"Giza\", \"6th of October City\", \"Al-Hawamidiyya\"],\n",
    "    \"Faiyum\": [\"Faiyum\", \"Tamiya\", \"Ibsheway\"],\n",
    "    \"Beni Suef\": [\"Beni Suef\", \"Al-Wasta\", \"Nasser\"],\n",
    "    \"Minya\": [\"Minya\", \"Maghagha\", \"Bani Mazar\"],\n",
    "    \"Asyut\": [\"Asyut\", \"Sohag\", \"Abnub\"],\n",
    "    \"Red Sea\": [\"Hurghada\", \"El-Qoseir\", \"Marsa Alam\"],\n",
    "    \"New Valley\": [\"Kharga\", \"Dakhla\", \"Farafra\"],\n",
    "    \"Sohag\": [\"Sohag\", \"Akhmim\", \"Dar El Salam\"],\n",
    "    \"Qena\": [\"Qena\", \"Luxor\", \"Nag Hammadi\"],\n",
    "    \"Aswan\": [\"Aswan\", \"Edfu\", \"Kom Ombo\"],\n",
    "    \"Luxor\": [\"Luxor\", \"Esna\", \"Armant\"],\n",
    "    \"Matrouh\": [\"Marsa Matruh\", \"Siwa\", \"El Hamam\"]\n",
    "}\n",
    "print(len(egypt_governorates))\n",
    "governorates = []\n",
    "for k,v in egypt_governorates.items():\n",
    "    governorates.append(k)\n",
    "print(egypt_governorates[governorates[25]][2]) #first idx -> random 0:25 , 2nd idx -> random 0:2"
   ]
  },
  {
   "cell_type": "code",
   "execution_count": 91,
   "metadata": {},
   "outputs": [
    {
     "name": "stdout",
     "output_type": "stream",
     "text": [
      "22\n"
     ]
    }
   ],
   "source": [
    "streets = ['October Street','Ahmed Orabi Street','El Haram Street','Talaat Harb Street',\n",
    "           'El Nozha Street','Gamal Abdel Nasser Street','Abu Bakr El Seddik Street',\n",
    "           'El Thawra Street','El Galaa Street','Al-Azhar Street','Lebanon Street','Al Nahda Street',\n",
    "           'El Kornish Street','Al Ahram Street','El Gaish Street','July 26th Street','Al Horreya Street',\n",
    "           'El Nasr Street','Salah Salem Street',' El Obour Street','Al Nile Street','Gezira Street'\n",
    "    \n",
    "]\n",
    "print(len(streets))"
   ]
  },
  {
   "cell_type": "code",
   "execution_count": 92,
   "metadata": {},
   "outputs": [],
   "source": [
    "# Address is '31 Gezira Street, Zamalek, Cairo' \n",
    "# random number from 1:50 street name, city , governate , country \n"
   ]
  },
  {
   "cell_type": "code",
   "execution_count": 93,
   "metadata": {},
   "outputs": [
    {
     "name": "stdout",
     "output_type": "stream",
     "text": [
      "Date this year: 2024-05-01\n"
     ]
    }
   ],
   "source": [
    "# date for deadline for tasks\n",
    "from faker import Faker\n",
    "faker = Faker()\n",
    "print(f'Date this year: {faker.date_this_year()}')\n"
   ]
  },
  {
   "cell_type": "code",
   "execution_count": 94,
   "metadata": {},
   "outputs": [],
   "source": [
    "#status for tasks\n",
    "task_status = ['open','pending','cancelled','done'] \n",
    "# use np.random.choice(task_status, replace=True) to select with replacement \n"
   ]
  },
  {
   "cell_type": "markdown",
   "metadata": {},
   "source": [
    "### Make providers"
   ]
  },
  {
   "cell_type": "code",
   "execution_count": 95,
   "metadata": {},
   "outputs": [
    {
     "name": "stdout",
     "output_type": "stream",
     "text": [
      "person: Nadine Yusef\n",
      "person: Najwa Gaber\n"
     ]
    }
   ],
   "source": [
    "# what we need is a dynamic provider\n",
    "from faker.providers import DynamicProvider \n",
    "# Dynamic providers can read elements from an external source.\n",
    "\n",
    "arabic_names_provider = DynamicProvider(\n",
    "     provider_name= \"arabic_first_names\",\n",
    "     elements=arabic_names\n",
    ")\n",
    "arabic_last_names_provider = DynamicProvider(\n",
    "     provider_name= \"arabic_last_names\",\n",
    "     elements=arabic_last_names\n",
    ")\n",
    "\n",
    "fake = Faker()\n",
    "\n",
    "# then add new provider to faker instance\n",
    "fake.add_provider(arabic_names_provider)\n",
    "fake.add_provider(arabic_last_names_provider)\n",
    "\n",
    "\n",
    "print(f\"person: {fake.arabic_first_names()} {fake.arabic_last_names()}\")\n",
    "print(f\"person: {fake.random_element(arabic_names)} {fake.random_element(arabic_last_names)}\")"
   ]
  },
  {
   "cell_type": "markdown",
   "metadata": {},
   "source": [
    "## Freelancer dataset\n",
    "- employee_id: \n",
    "- Fname\t\n",
    "- Lname\t\n",
    "- category\n",
    "- street\n",
    "- city\t\n",
    "- governorate\t\n",
    "- Country\t\n",
    "- Address\t\n",
    "- rating\t\n",
    "- tags \n"
   ]
  },
  {
   "cell_type": "code",
   "execution_count": 96,
   "metadata": {},
   "outputs": [],
   "source": [
    "#list of feature names to act as a header\n",
    "freelancer_features_name = ['employee_id','Fname','Lname','category','tags','street','city','governorate','country','address','rating']"
   ]
  },
  {
   "cell_type": "code",
   "execution_count": 97,
   "metadata": {},
   "outputs": [],
   "source": [
    "# create a CSV file\n",
    "import csv\n",
    "\n",
    "row_num = 100\n",
    "with open('freelancer.csv', 'w', newline='') as f:\n",
    "\n",
    "    writer = csv.DictWriter(f, fieldnames=freelancer_features_name)\n",
    "\n",
    "    writer.writeheader()\n",
    "\n",
    "    for i in range(1, row_num+1, 1):\n",
    "        _id = i\n",
    "        fname = fake.random_element(arabic_names)\n",
    "        lname = fake.random_element(arabic_last_names)\n",
    "        category = fake.random_element(freelancer_categories)\n",
    "        tags = fake.random_elements(freelancer_tags[category])\n",
    "        street = fake.random_element(streets)\n",
    "        governorate = fake.random_element(governorates)\n",
    "        city = fake.random_element(egypt_governorates[governorate])\n",
    "        country = \"Egypt\"\n",
    "        address =  fake.bothify(f'## {street}, {city}, {governorate}, {country}')                          #22 Naser street,Mansoura,Dakhahlia,Egypt\n",
    "        rating = random.randint(1, 10)\n",
    "        \n",
    "\n",
    "        writer.writerow({'employee_id': _id, 'Fname': fname, \n",
    "            'Lname': lname,'category':category,\"tags\":tags,\n",
    "            \"street\":street,\"city\":city,\"governorate\":governorate,\"country\":country,\n",
    "            \"address\":address,\"rating\":rating})"
   ]
  },
  {
   "cell_type": "markdown",
   "metadata": {},
   "source": [
    "## Tasks dataset\n"
   ]
  },
  {
   "cell_type": "code",
   "execution_count": null,
   "metadata": {},
   "outputs": [],
   "source": [
    "tasks_features_name = ['task_id','title','category','tags','street','city','governorate','country','address','rating','deadline','price','status','description']"
   ]
  },
  {
   "cell_type": "code",
   "execution_count": null,
   "metadata": {},
   "outputs": [],
   "source": [
    "# create a CSV file\n",
    "import csv\n",
    "\n",
    "row_num = 100\n",
    "with open('tasks.csv', 'w', newline='') as f:\n",
    "\n",
    "    writer = csv.DictWriter(f, fieldnames=tasks_features_name)\n",
    "\n",
    "    writer.writeheader()\n",
    "\n",
    "    for i in range(1, row_num+1, 1):\n",
    "        _id = i\n",
    "        title = _\n",
    "        category = fake.random_element(freelancer_categories)\n",
    "        tags = fake.random_elements(freelancer_tags[category])\n",
    "        street = fake.random_element(streets)\n",
    "        governorate = fake.random_element(governorates)\n",
    "        city = fake.random_element(egypt_governorates[governorate])\n",
    "        country = \"Egypt\"\n",
    "        address =  fake.bothify(f'## {street}, {city}, {governorate}, {country}')                          #22 Naser street,Mansoura,Dakhahlia,Egypt\n",
    "        rating = random.randint(1, 10)\n",
    "        deadline = fake.date_this_year()\n",
    "        price = fake.random_int(5,1000,5)\n",
    "        status = fake.random_element(task_status)\n",
    "        description = _\n",
    "        \n",
    "        \n",
    "\n",
    "        writer.writerow({'task_id': _id, 'title': title, \n",
    "            'category':category,\"tags\":tags,\n",
    "            \"street\":street,\"city\":city,\"governorate\":governorate,\"country\":country,\n",
    "            \"address\":address,\"rating\":rating,\n",
    "            \"deadline\":deadline,'price':price,'status':status,'description':description})"
   ]
  },
  {
   "cell_type": "markdown",
   "metadata": {},
   "source": [
    "## Client_dataset"
   ]
  },
  {
   "cell_type": "code",
   "execution_count": 98,
   "metadata": {},
   "outputs": [],
   "source": [
    "client_features_name = ['employer_id','Fname','Lname','street','city','governorate','country','address','rating']"
   ]
  },
  {
   "cell_type": "code",
   "execution_count": 99,
   "metadata": {},
   "outputs": [],
   "source": [
    "# create a CSV file\n",
    "import csv\n",
    "\n",
    "row_num = 100\n",
    "with open('client.csv', 'w', newline='') as f:\n",
    "\n",
    "    writer = csv.DictWriter(f, fieldnames=client_features_name)\n",
    "\n",
    "    writer.writeheader()\n",
    "\n",
    "    for i in range(1, row_num+1, 1):\n",
    "        _id = i\n",
    "        fname = fake.random_element(arabic_names)\n",
    "        lname = fake.random_element(arabic_last_names)\n",
    "        street = fake.random_element(streets)\n",
    "        governorate = fake.random_element(governorates)\n",
    "        city = fake.random_element(egypt_governorates[governorate])\n",
    "        country = \"Egypt\"\n",
    "        address =  fake.bothify(f'## {street}, {city}, {governorate}, {country}')                          #22 Naser street,Mansoura,Dakhahlia,Egypt\n",
    "        rating = random.randint(1, 10)\n",
    "        \n",
    "\n",
    "        writer.writerow({'employer_id': _id, 'Fname': fname, \n",
    "            'Lname': lname,\n",
    "            \"street\":street,\"city\":city,\"governorate\":governorate,\"country\":country,\n",
    "            \"address\":address,\"rating\":rating})"
   ]
  },
  {
   "cell_type": "code",
   "execution_count": null,
   "metadata": {},
   "outputs": [],
   "source": []
  }
 ],
 "metadata": {
  "kernelspec": {
   "display_name": "Python 3",
   "language": "python",
   "name": "python3"
  },
  "language_info": {
   "codemirror_mode": {
    "name": "ipython",
    "version": 3
   },
   "file_extension": ".py",
   "mimetype": "text/x-python",
   "name": "python",
   "nbconvert_exporter": "python",
   "pygments_lexer": "ipython3",
   "version": "3.11.0"
  }
 },
 "nbformat": 4,
 "nbformat_minor": 2
}
