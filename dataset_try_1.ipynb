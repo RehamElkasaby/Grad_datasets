{
 "cells": [
  {
   "cell_type": "code",
   "execution_count": 1,
   "metadata": {},
   "outputs": [],
   "source": [
    "import faker\n",
    "import pandas as pd\n",
    "import random # used for numeriacal data like id,price\n",
    "import datetime"
   ]
  },
  {
   "cell_type": "code",
   "execution_count": null,
   "metadata": {},
   "outputs": [],
   "source": [
    "# first step \n",
    "num_rows = 1000  # can be changed\n"
   ]
  },
  {
   "cell_type": "code",
   "execution_count": null,
   "metadata": {},
   "outputs": [],
   "source": [
    "# second step\n",
    "Employee_id = [f\"{i+1}\" for i in range(num_rows)] # ids\n",
    "ages = [random.randint(1, 50) for i in range(num_rows)]\n",
    "materials = [random.choice(['steel', 'plastic', 'concrete']) for i in range(num_rows)]\n",
    "locations = [random.choice(['lagos', 'warri', 'portharcourt', 'bayelsa']) for i in range(num_rows)]"
   ]
  },
  {
   "cell_type": "code",
   "execution_count": null,
   "metadata": {},
   "outputs": [],
   "source": [
    "#third step\n",
    "freelancer_data_table = {'Employee_id':Employee_id,\n",
    "                       'age_years': ages,\n",
    "                       'material':materials,\n",
    "                       'location':locations}"
   ]
  },
  {
   "cell_type": "code",
   "execution_count": null,
   "metadata": {},
   "outputs": [],
   "source": [
    "#fourth step\n",
    "df_freelancer = pd.DataFrame(freelancer_data_table)\n"
   ]
  },
  {
   "cell_type": "code",
   "execution_count": null,
   "metadata": {},
   "outputs": [],
   "source": [
    "df_freelancer.head()"
   ]
  },
  {
   "cell_type": "code",
   "execution_count": null,
   "metadata": {},
   "outputs": [],
   "source": [
    "# final step: data is ready\n",
    "df_freelancer.to_csv('freelancer_table.csv')\n"
   ]
  },
  {
   "cell_type": "markdown",
   "metadata": {},
   "source": [
    "## Faker library\n",
    "-  is a Python library that generates fake data. Fake data is often used for testing or filling databases with some dummy data. \n"
   ]
  },
  {
   "cell_type": "markdown",
   "metadata": {},
   "source": [
    "### Faker generator\n",
    "The `faker.Faker` creates and initializes a faker generator, which can generate data by accessing properties named after the type of data.\n",
    "example `faker.name()`\n",
    "\n",
    "Faker delegates the data generation to providers. \n",
    "\n",
    "The default provider uses the **English locale**.\n",
    "Faker supports other locales; they differ in level of completion."
   ]
  },
  {
   "cell_type": "code",
   "execution_count": 4,
   "metadata": {},
   "outputs": [
    {
     "name": "stdout",
     "output_type": "stream",
     "text": [
      "name: Fernando Russell\n",
      "address: 75002 Craig Lock Suite 753\n",
      "Heatherberg, SD 10457\n",
      "text: Surface ask small light too science low people.\n",
      "Pick talk theory practice note. Admit prove mean night region baby value.\n"
     ]
    }
   ],
   "source": [
    "from faker import Faker\n",
    "\n",
    "faker = Faker() # default English locale\n",
    "#faker = Faker('ar_AA') # this is how to change locale\n",
    "\n",
    "print(f'name: {faker.name()}')\n",
    "print(f'address: {faker.address()}')\n",
    "\n",
    "print(f'text: {faker.text()}')"
   ]
  },
  {
   "cell_type": "code",
   "execution_count": 5,
   "metadata": {},
   "outputs": [
    {
     "name": "stdout",
     "output_type": "stream",
     "text": [
      "Name: Jason Miranda\n",
      "First name: Christopher\n",
      "Last name: Williams\n",
      "--------------------------\n",
      "Male name: Tyler Moore\n",
      "Female name: Leslie Rodriguez\n"
     ]
    }
   ],
   "source": [
    "print(f'Name: {faker.name()}')\n",
    "print(f'First name: {faker.first_name()}')\n",
    "print(f'Last name: {faker.last_name()}')\n",
    "\n",
    "print('--------------------------')\n",
    "\n",
    "print(f'Male name: {faker.name_male()}')\n",
    "print(f'Female name: {faker.name_female()}')"
   ]
  },
  {
   "cell_type": "code",
   "execution_count": 9,
   "metadata": {},
   "outputs": [
    {
     "name": "stdout",
     "output_type": "stream",
     "text": [
      "Therapist, nutritional\n",
      "Midwife\n",
      "Scientist, forensic\n",
      "Immigration officer\n",
      "Retail buyer\n",
      "Corporate investment banker\n"
     ]
    }
   ],
   "source": [
    "from faker import Faker\n",
    "\n",
    "faker = Faker() # default English locale\n",
    "#faker = Faker('ar_AA') # this is how to change locale\n",
    "\n",
    "for _ in range(6):\n",
    "    print(faker.job())"
   ]
  },
  {
   "cell_type": "code",
   "execution_count": 10,
   "metadata": {},
   "outputs": [
    {
     "name": "stdout",
     "output_type": "stream",
     "text": [
      "Stephanie Carlson, 6329 Melinda Orchard\n",
      "Erinborough, WA 64348, 206.293.9394\n",
      "Jillian Barr, 61437 Cory Vista Apt. 284\n",
      "West Sharonmouth, OK 87955, 001-942-870-3094x40019\n",
      "Sue Rosales, PSC 9720, Box 5124\n",
      "APO AE 38943, 8906708420\n"
     ]
    }
   ],
   "source": [
    "for i in range(3):\n",
    "\n",
    "    name = faker.name()\n",
    "    address = faker.address()\n",
    "    phone = faker.phone_number()\n",
    "\n",
    "    print(f'{name}, {address}, {phone}')"
   ]
  },
  {
   "cell_type": "code",
   "execution_count": 26,
   "metadata": {},
   "outputs": [
    {
     "name": "stdout",
     "output_type": "stream",
     "text": [
      "a word: wide\n",
      "six words: ['truth', 'work', 'price', 'author', 'despite', 'people']\n",
      "customized unique words: ['wood', 'ريهام', 'sky']\n"
     ]
    }
   ],
   "source": [
    "\n",
    "from faker import Faker\n",
    "\n",
    "faker = Faker()\n",
    "\n",
    "print(f'a word: {faker.word()}')\n",
    "print(f'six words: {faker.words(6)}')\n",
    "\n",
    "words = ['forest', 'blue', 'ريهام', 'sky', 'wood', 'falcon']\n",
    "print(f'customized unique words: {faker.words(3,None, words, True)}')\n",
    "\n"
   ]
  },
  {
   "cell_type": "code",
   "execution_count": 27,
   "metadata": {},
   "outputs": [
    {
     "name": "stdout",
     "output_type": "stream",
     "text": [
      "Random int: 718\n",
      "Random int: 57\n",
      "Random digit: 0\n"
     ]
    }
   ],
   "source": [
    "from faker import Faker\n",
    "\n",
    "faker = Faker()\n",
    "\n",
    "print(f'Random int: {faker.random_int()}')\n",
    "print(f'Random int: {faker.random_int(0, 100)}')\n",
    "print(f'Random digit: {faker.random_digit()}')"
   ]
  },
  {
   "cell_type": "code",
   "execution_count": 28,
   "metadata": {},
   "outputs": [
    {
     "name": "stdout",
     "output_type": "stream",
     "text": [
      "Email: pjones@example.org\n",
      "Safe email: elizabethhart@example.net\n",
      "Free email: fostermark@hotmail.com\n",
      "Company email: brittany48@gutierrez-golden.com\n"
     ]
    }
   ],
   "source": [
    "print(f'Email: {faker.email()}')\n",
    "print(f'Safe email: {faker.safe_email()}')\n",
    "print(f'Free email: {faker.free_email()}')\n",
    "print(f'Company email: {faker.company_email()}')"
   ]
  },
  {
   "cell_type": "code",
   "execution_count": 29,
   "metadata": {},
   "outputs": [
    {
     "name": "stdout",
     "output_type": "stream",
     "text": [
      "Date of birth: 1932-06-12\n",
      "Century: XI\n",
      "Year: 2011\n",
      "Month: 03\n",
      "Month name: August\n",
      "Day of week: Sunday\n",
      "Day of month: 10\n",
      "Time zone: Africa/Cairo\n",
      "AM/PM: PM\n"
     ]
    }
   ],
   "source": [
    "from faker import Faker\n",
    "\n",
    "faker = Faker()\n",
    "\n",
    "print(f'Date of birth: {faker.date_of_birth()}')\n",
    "print(f'Century: {faker.century()}')\n",
    "print(f'Year: {faker.year()}')\n",
    "print(f'Month: {faker.month()}')\n",
    "print(f'Month name: {faker.month_name()}')\n",
    "print(f'Day of week: {faker.day_of_week()}')\n",
    "print(f'Day of month: {faker.day_of_month()}')\n",
    "print(f'Time zone: {faker.timezone()}')\n",
    "print(f'AM/PM: {faker.am_pm()}')"
   ]
  },
  {
   "cell_type": "code",
   "execution_count": 30,
   "metadata": {},
   "outputs": [
    {
     "name": "stdout",
     "output_type": "stream",
     "text": [
      "Datetime this century: 2016-11-23 14:33:14\n",
      "Datetime this decade: 2023-10-26 20:42:18\n",
      "Datetime this year: 2024-02-21 11:10:16\n",
      "Datetime this month: 2024-05-10 16:24:29\n",
      "-------------------------\n",
      "Date this century: 2003-08-19\n",
      "Date this decade: 2021-03-09\n",
      "Date this year: 2024-01-29\n",
      "Date this month: 2024-05-09\n",
      "-------------------------\n",
      "2024-05-07 00:44:27\n",
      "2024-05-09 00:44:27\n",
      "2024-05-11 00:44:27\n",
      "2024-05-13 00:44:27\n",
      "2024-05-15 00:44:27\n",
      "2024-05-17 00:44:27\n"
     ]
    }
   ],
   "source": [
    "print(f'Datetime this century: {faker.date_time_this_century()}')\n",
    "print(f'Datetime this decade: {faker.date_time_this_decade()}')\n",
    "print(f'Datetime this year: {faker.date_time_this_year()}')\n",
    "print(f'Datetime this month: {faker.date_time_this_month()}')\n",
    "\n",
    "print('-------------------------')\n",
    "\n",
    "print(f'Date this century: {faker.date_this_century()}')\n",
    "print(f'Date this decade: {faker.date_this_decade()}')\n",
    "print(f'Date this year: {faker.date_this_year()}')\n",
    "print(f'Date this month: {faker.date_this_month()}')\n",
    "\n",
    "print('-------------------------')\n",
    "\n",
    "TOTAL_SECONDS = 60*60*24*2 # two days\n",
    "\n",
    "series = faker.time_series(start_date='-12d', end_date='now', precision=TOTAL_SECONDS)\n",
    "\n",
    "for val in series:\n",
    "    print(val[0])"
   ]
  },
  {
   "cell_type": "code",
   "execution_count": 46,
   "metadata": {},
   "outputs": [
    {
     "name": "stdout",
     "output_type": "stream",
     "text": [
      "content creation\n",
      "install air conditioner\n",
      "plumbing\n",
      "Resume Writing\n",
      "video editting\n",
      "moving\n",
      "Generative AI\n",
      "Development\n",
      "moving\n",
      "chat support\n"
     ]
    }
   ],
   "source": [
    "# what we need is a dynamic provider\n",
    "from faker.providers import DynamicProvider \n",
    "# Dynamic providers can read elements from an external source.\n",
    "# freelance category provider\n",
    "freelance_category_provider = DynamicProvider(\n",
    "     provider_name=\"freelance_category\",\n",
    "     elements=[\"carpentry\", \"plumbing\", \"painting\", \"cleaning\", \"moving\",\"delivery\",\"shipping\",\"car washing\",\n",
    "               \"home-made cooking\",\"home maintenance\",\"install air conditioner\",\"electrical help\",\"furniture assembly\"\n",
    "               ,\"gardening services\",'data entry','virtual assistant','sales','content creation','markting','data analysis','video editting','Graphic designer','call center',\n",
    "               'chat support','Customer Support','Resume Writing','Development','Legal Writing Services','Generative AI']\n",
    ")\n",
    "     \n",
    "freelance_names = DynamicProvider(\n",
    "     provider_name=\"freelance_names\",\n",
    "     elements=['Ahmad','Ahmed','Amir','Ameer','Ali','Ammar','Ayman','Aziz',\n",
    "               'Bilal','Careem','Daaim','Ebrahim','Emad','Essam','Ibrahim','Fadi','Fadee',\n",
    "               'Galal','Ghanim','Habeeb','Hafez','Hakeem','Hamza','Hasan',\n",
    "               'Hussein','Hussain','Idrees','Idris','Imad','Ismail','Issam',\n",
    "               'Jad','Jalal','Jihad','Junaid','Kamal','Kamil','Kalil','Kareem',\n",
    "               'Karim','Khalid','Kadeer','Laith','Malik','Mahmoud','Maleek',\n",
    "               'Mustafa','Mohammad','mohamed','Mohammed','Nader','Nabil','Naadim',\n",
    "               'Omar','Omran','Ossama','Ossamah','Qasim','Qaseem','Raiyan','Rayan','Reda','Raheem'\n",
    "               'Saif','Suliman','Salem','Saad','salah','Taha','Tariq','Taher','Taheer',\n",
    "               'Umar','Usman','Waleed','Yazan','Yasin','Yassin','Yousef','Yusef','Yoonus',\n",
    "               'Zain','Zaki','Zaid',]\n",
    ")\n",
    "\n",
    "fake = Faker()\n",
    "\n",
    "# then add new provider to faker instance\n",
    "fake.add_provider(freelance_category_provider)\n",
    "\n",
    "\n",
    "# now you can use:\n",
    "for i in range(10):\n",
    "  print(fake.freelance_category())\n",
    "\n",
    "  \n",
    "\n",
    "\n"
   ]
  },
  {
   "cell_type": "code",
   "execution_count": 45,
   "metadata": {},
   "outputs": [],
   "source": [
    "# create a CSV file\n",
    "import csv\n",
    "\n",
    "\n",
    "with open('users.csv', 'w', newline='') as f:\n",
    "\n",
    "    fieldnames = ['id', 'first_name', 'last_name','catogory']\n",
    "    writer = csv.DictWriter(f, fieldnames=fieldnames)\n",
    "\n",
    "    writer.writeheader()\n",
    "\n",
    "    for i in range(1, 101, 1):\n",
    "        _id = i\n",
    "        fname = fake.first_name()\n",
    "        lname = fake.last_name()\n",
    "        category = fake.freelance_category()\n",
    "\n",
    "        writer.writerow({'id': _id, 'first_name': fname, \n",
    "            'last_name': lname,'catogory':category})\n",
    "    "
   ]
  },
  {
   "cell_type": "code",
   "execution_count": 1,
   "metadata": {},
   "outputs": [
    {
     "name": "stdout",
     "output_type": "stream",
     "text": [
      "83\n"
     ]
    }
   ],
   "source": [
    "elements=['Ahmad','Ahmed','Amir','Ameer','Ali','Ammar','Ayman','Aziz',\n",
    "               'Bilal','Careem','Daaim','Ebrahim','Emad','Essam','Ibrahim','Fadi','Fadee',\n",
    "               'Galal','Ghanim','Habeeb','Hafez','Hakeem','Hamza','Hasan',\n",
    "               'Hussein','Hussain','Idrees','Idris','Imad','Ismail','Issam',\n",
    "               'Jad','Jalal','Jihad','Junaid','Kamal','Kamil','Kalil','Kareem',\n",
    "               'Karim','Khalid','Kadeer','Laith','Malik','Mahmoud','Maleek',\n",
    "               'Mustafa','Mohammad','mohamed','Mohammed','Nader','Nabil','Naadim',\n",
    "               'Omar','Omran','Ossama','Ossamah','Qasim','Qaseem','Raiyan','Rayan','Reda','Raheem'\n",
    "               'Saif','Suliman','Salem','Saad','salah','Taha','Tariq','Taher','Taheer',\n",
    "               'Umar','Usman','Waleed','Yazan','Yasin','Yassin','Yousef','Yusef','Yoonus',\n",
    "               'Zain','Zaki','Zaid']\n",
    "print(len(elements))"
   ]
  },
  {
   "cell_type": "code",
   "execution_count": 48,
   "metadata": {},
   "outputs": [
    {
     "name": "stdout",
     "output_type": "stream",
     "text": [
      "79\n"
     ]
    }
   ],
   "source": [
    "arabic_names = [\n",
    "    \"Aaliyah\", \"Ahlam\", \"Aisha\", \"Alia\", \"Amal\", \"Amina\", \"Anisa\", \"Asma\", \"Ayah\",\n",
    "    \"Basma\", \"Bayan\", \"Bushra\", \"Buthayna\",\n",
    "    \"Dalal\", \"Dana\", \"Dina\", \"Duaa\",\n",
    "    \"Elham\", \"Eman\", \"Esra\",\n",
    "    \"Farah\", \"Fatima\", \"Fayza\",\n",
    "    \"Ghada\", \"Ghadeer\", \"Ghina\",\n",
    "    \"Hala\", \"Hanan\", \"Haya\", \"Heba\", \"Hind\", \"Huda\",\n",
    "    \"Iman\", \"Inaam\", \"Inas\",\n",
    "    \"Jana\", \"Jasmine\", \"Jumana\",\n",
    "    \"Khadija\", \"Kholoud\",\n",
    "    \"Laila\", \"Lana\", \"Layla\", \"Lina\",\n",
    "    \"Maha\", \"Mariam\", \"Mays\", \"Mona\", \"Muna\",\n",
    "    \"Nadia\", \"Nadine\", \"Najwa\", \"Nour\",\n",
    "    \"Ola\",\n",
    "    \"Rania\", \"Reem\", \"Rim\", \"Ruba\", \"Rula\",\n",
    "    \"Safa\", \"Salma\", \"Samira\", \"Sara\", \"Sarah\", \"Shaima\", \"Shams\", \"Shorouq\",\n",
    "    \"Tamara\", \"Tasneem\", \"Thuraya\",\n",
    "    \"Wafa\", \"Walaa\", \"Ward\",\n",
    "    \"Yasmin\", \"Yasmine\", \"Yusra\",\n",
    "    \"Zahra\", \"Zaina\", \"Zainab\"\n",
    "]\n",
    "print(len(arabic_names))"
   ]
  },
  {
   "cell_type": "code",
   "execution_count": null,
   "metadata": {},
   "outputs": [],
   "source": [
    "arabic_names_male = [\n",
    "    \"Abdullah\", \"Adel\", \"Ahmed\", \"Ali\", \"Amir\", \"Anas\", \"Ayman\",\n",
    "    \"Bashar\", \"Bassam\", \"Bilal\",\n",
    "    \"Casim\", \"Chakir\",\n",
    "    \"Dawood\", \"Dhia\", \"Diya\",\n",
    "    \"Ehab\", \"Emad\", \"Eyad\",\n",
    "    \"Fadi\", \"Faisal\", \"Farid\", \"Fouad\",\n",
    "    \"Gamal\", \"Ghassan\",\n",
    "    \"Hadi\", \"Hamza\", \"Hasan\", \"Hassan\", \"Hatem\", \"Hazem\", \"Hisham\",\n",
    "    \"Ibrahim\", \"Imad\", \"Ismail\",\n",
    "    \"Jamal\", \"Jawad\", \"Jibril\",\n",
    "    \"Kamal\", \"Karim\", \"Khaled\",\n",
    "    \"Laith\", \"Lutfi\",\n",
    "    \"Mahmoud\", \"Majid\", \"Marwan\", \"Mazen\", \"Mohamed\", \"Mustafa\",\n",
    "    \"Nabil\", \"Nadeem\", \"Nasser\", \"Nizar\",\n",
    "    \"Omar\", \"Osama\", \"Othman\",\n",
    "    \"Qasim\", \"Qays\",\n",
    "    \"Rami\", \"Rashid\", \"Riad\", \"Riyad\",\n",
    "    \"Saad\", \"Saeed\", \"Sami\", \"Samir\", \"Selim\", \"Suleiman\",\n",
    "    \"Tariq\", \"Tawfiq\", \"Tamer\",\n",
    "    \"Waleed\", \"Walid\", \"Waqar\",\n",
    "    \"Yahia\", \"Yasir\", \"Youssef\",\n",
    "    \"Zaid\", \"Zakariya\", \"Ziyad\"\n",
    "]\n"
   ]
  },
  {
   "cell_type": "code",
   "execution_count": null,
   "metadata": {},
   "outputs": [],
   "source": [
    "arabic_last_names = [\n",
    "    \"Abbas\", \"Abdul\", \"Abdullah\", \"Adel\", \"Ahmad\", \"Ahsan\", \"Akhtar\", \"Ali\", \"Al-Rashid\",\n",
    "    \"Amin\", \"Assad\", \"Ayad\",\n",
    "    \"Badr\", \"Bakir\", \"Barakat\", \"Basel\", \"Basha\",\n",
    "    \"Chami\", \"Chams\",\n",
    "    \"Daoud\", \"Darwish\", \"Dib\", \"Doud\",\n",
    "    \"Eid\", \"El-Amin\", \"El-Sayed\", \"Essam\",\n",
    "    \"Fahad\", \"Fakhoury\", \"Faraj\", \"Farouk\", \"Fathi\", \"Fayez\",\n",
    "    \"Gaber\", \"Gad\", \"Ghanem\", \"Ghassan\",\n",
    "    \"Habib\", \"Haddad\", \"Haj\", \"Hakim\", \"Halabi\", \"Hamdan\", \"Hassan\", \"Hatem\", \"Hussein\",\n",
    "    \"Ibrahim\", \"Ismail\", \"Issa\",\n",
    "    \"Jaber\", \"Jamal\", \"Jarrah\", \"Jibril\",\n",
    "    \"Kamal\", \"Karim\", \"Khaled\", \"Khatib\", \"Khoury\",\n",
    "    \"Latif\", \"Lutfi\",\n",
    "    \"Mansour\", \"Masri\", \"Matar\", \"Mazen\", \"Mustafa\",\n",
    "    \"Nader\", \"Naji\", \"Najjar\", \"Nasr\",\n",
    "    \"Omar\", \"Osman\",\n",
    "    \"Qasim\", \"Quraishi\",\n",
    "    \"Rafiq\", \"Rahman\", \"Rajab\", \"Ramadan\", \"Rashid\", \"Rizk\",\n",
    "    \"Saad\", \"Sabbagh\", \"Saleh\", \"Salim\", \"Samar\", \"Shadid\", \"Shammas\", \"Shami\", \"Shara\",\n",
    "    \"Tawfiq\", \"Tayeb\", \"Touma\",\n",
    "    \"Wahab\", \"Wakil\", \"Wali\",\n",
    "    \"Yazid\", \"Youssef\", \"Younes\",\n",
    "    \"Zaidan\", \"Zakaria\", \"Zayed\", \"Zein\"\n",
    "]\n"
   ]
  },
  {
   "cell_type": "code",
   "execution_count": null,
   "metadata": {},
   "outputs": [],
   "source": [
    "freelancing_jobs_non_tech = [\n",
    "    \"Graphic Designer\",\n",
    "    \"Illustrator\",\n",
    "    \"Photographer\",\n",
    "    \"Videographer\",\n",
    "    \"Video Editor\",\n",
    "    \"Animator\",\n",
    "    \"Voice Actor\",\n",
    "    \"Content Writer\",\n",
    "    \"Copywriter\",\n",
    "    \"Editor\",\n",
    "    \"Proofreader\",\n",
    "    \"Social Media Manager\",\n",
    "    \"Digital Marketing Specialist\",\n",
    "    \"SEO Specialist\",\n",
    "    \"Public Relations Specialist\",\n",
    "    \"Brand Strategist\",\n",
    "    \"Marketing Consultant\",\n",
    "    \"Event Planner\",\n",
    "    \"Interior Designer\",\n",
    "    \"Fashion Designer\",\n",
    "    \"Stylist\",\n",
    "    \"Personal Shopper\",\n",
    "    \"Fitness Trainer\",\n",
    "    \"Yoga Instructor\",\n",
    "    \"Nutritionist\",\n",
    "    \"Dietitian\",\n",
    "    \"Life Coach\",\n",
    "    \"Career Coach\",\n",
    "    \"Business Consultant\",\n",
    "    \"Financial Advisor\",\n",
    "    \"Bookkeeper\",\n",
    "    \"Accountant\",\n",
    "    \"Tax Consultant\",\n",
    "    \"Legal Consultant\",\n",
    "    \"Paralegal\",\n",
    "    \"Real Estate Agent\",\n",
    "    \"Translator\",\n",
    "    \"Interpreter\",\n",
    "    \"Language Tutor\",\n",
    "    \"Academic Tutor\",\n",
    "    \"Test Prep Coach\",\n",
    "    \"Online Course Creator\",\n",
    "    \"Ebook Author\",\n",
    "    \"Ghostwriter\",\n",
    "    \"Blogger\",\n",
    "    \"Travel Writer\",\n",
    "    \"Grant Writer\",\n",
    "    \"Speechwriter\",\n",
    "    \"Technical Writer\",\n",
    "    \"Resume Writer\",\n",
    "    \"Public Speaker\",\n",
    "    \"Voice-over Artist\",\n",
    "    \"Musician\",\n",
    "    \"Singer\",\n",
    "    \"Music Producer\",\n",
    "    \"DJ\",\n",
    "    \"Music Teacher\",\n",
    "    \"Art Instructor\",\n",
    "    \"Dance Instructor\",\n",
    "    \"Acting Coach\",\n",
    "    \"Theater Director\",\n",
    "    \"Set Designer\",\n",
    "    \"Costume Designer\",\n",
    "    \"Makeup Artist\",\n",
    "    \"Hairstylist\",\n",
    "    \"Barber\",\n",
    "    \"Massage Therapist\",\n",
    "    \"Aesthetician\",\n",
    "    \"Wedding Planner\",\n",
    "    \"Catering Specialist\",\n",
    "    \"Chef\",\n",
    "    \"Baker\",\n",
    "    \"Food Stylist\",\n",
    "    \"Recipe Developer\",\n",
    "    \"Bartender\",\n",
    "    \"Mixologist\",\n",
    "    \"Personal Assistant\",\n",
    "    \"Virtual Assistant\",\n",
    "    \"Customer Service Representative\",\n",
    "    \"Data Entry Specialist\",\n",
    "    \"Administrative Assistant\",\n",
    "    \"Human Resources Consultant\",\n",
    "    \"Recruitment Specialist\"\n",
    "]\n"
   ]
  },
  {
   "cell_type": "code",
   "execution_count": null,
   "metadata": {},
   "outputs": [],
   "source": [
    "freelancing_jobs_tech = [\n",
    "    \"Web Developer\",\n",
    "    \"Mobile App Developer\",\n",
    "    \"Frontend Developer\",\n",
    "    \"Backend Developer\",\n",
    "    \"Full Stack Developer\",\n",
    "    \"UI/UX Designer\",\n",
    "    \"Graphic Designer\",\n",
    "    \"DevOps Engineer\",\n",
    "    \"Data Scientist\",\n",
    "    \"Data Analyst\",\n",
    "    \"Machine Learning Engineer\",\n",
    "    \"AI Specialist\",\n",
    "    \"Cybersecurity Specialist\",\n",
    "    \"Cloud Engineer\",\n",
    "    \"Blockchain Developer\",\n",
    "    \"Software Engineer\",\n",
    "    \"Quality Assurance Tester\",\n",
    "    \"Database Administrator\",\n",
    "    \"Systems Administrator\",\n",
    "    \"IT Support Specialist\",\n",
    "    \"Network Engineer\",\n",
    "    \"Technical Writer\",\n",
    "    \"Project Manager\",\n",
    "    \"Product Manager\",\n",
    "    \"SEO Specialist\",\n",
    "    \"Digital Marketing Specialist\",\n",
    "    \"Content Writer\",\n",
    "    \"Technical Support Engineer\",\n",
    "    \"Solutions Architect\",\n",
    "    \"Business Analyst\",\n",
    "    \"Scrum Master\",\n",
    "    \"Salesforce Developer\",\n",
    "    \"SAP Consultant\",\n",
    "    \"Oracle Developer\",\n",
    "    \"Game Developer\",\n",
    "    \"Embedded Systems Engineer\",\n",
    "    \"Automation Engineer\",\n",
    "    \"Augmented Reality (AR) Developer\",\n",
    "    \"Virtual Reality (VR) Developer\",\n",
    "    \"Internet of Things (IoT) Developer\",\n",
    "    \"E-commerce Specialist\",\n",
    "    \"CRM Developer\",\n",
    "    \"API Developer\",\n",
    "    \"Big Data Engineer\",\n",
    "    \"IT Consultant\",\n",
    "    \"Robotics Engineer\",\n",
    "    \"Artificial Intelligence Consultant\",\n",
    "    \"Computer Vision Engineer\",\n",
    "    \"Natural Language Processing (NLP) Engineer\",\n",
    "    \"Penetration Tester\",\n",
    "    \"Ethical Hacker\",\n",
    "    \"Server Administrator\",\n",
    "    \"Linux Administrator\",\n",
    "    \"Windows Administrator\",\n",
    "    \"Cloud Solutions Architect\",\n",
    "    \"Mobile Game Developer\",\n",
    "    \"Firmware Developer\",\n",
    "    \"Technical Recruiter\",\n",
    "    \"Telecommunications Specialist\",\n",
    "    \"Tech Support Analyst\",\n",
    "    \"Systems Engineer\",\n",
    "    \"IT Auditor\",\n",
    "    \"Security Analyst\",\n",
    "    \"Software Architect\",\n",
    "    \"Firmware Engineer\",\n",
    "    \"Network Security Engineer\",\n",
    "    \"Mobile UI Designer\",\n",
    "    \"Mobile UX Designer\",\n",
    "    \"Technical Account Manager\",\n",
    "    \"Business Intelligence Analyst\",\n",
    "    \"IT Project Coordinator\",\n",
    "    \"Help Desk Technician\",\n",
    "    \"Site Reliability Engineer (SRE)\",\n",
    "    \"AI Research Scientist\",\n",
    "    \"Computer Engineer\",\n",
    "    \"Web Designer\",\n",
    "    \"IT Trainer\",\n",
    "    \"Chief Technology Officer (CTO)\",\n",
    "    \"IT Operations Manager\",\n",
    "    \"User Experience Researcher\",\n",
    "    \"Game Designer\",\n",
    "    \"Cloud Security Engineer\",\n",
    "    \"Data Engineer\",\n",
    "    \"Software Development Consultant\",\n",
    "    \"Tech Blogger\"\n",
    "]\n"
   ]
  },
  {
   "cell_type": "code",
   "execution_count": null,
   "metadata": {},
   "outputs": [],
   "source": [
    "egyptian_cities = [\n",
    "    \"Cairo\", \"Alexandria\", \"Giza\", \"Shubra El Kheima\", \"Port Said\", \"Suez\", \"Luxor\",\n",
    "    \"Mansoura\", \"Tanta\", \"Asyut\", \"Ismailia\", \"Faiyum\", \"Zagazig\", \"Aswan\",\n",
    "    \"Damietta\", \"Damanhur\", \"Minya\", \"Beni Suef\", \"Qena\", \"Sohag\", \"Hurghada\",\n",
    "    \"6th of October City\", \"Shibin El Kom\", \"Banha\", \"Kafr El Sheikh\", \"Arish\",\n",
    "    \"Mallawi\", \"Belbeis\", \"Marsa Matruh\", \"Qalyub\", \"Abu Kabir\", \"Girga\",\n",
    "    \"Idfu\", \"El Mahalla El Kubra\", \"Sohag\", \"El Gouna\", \"Rosetta\", \"El Tor\",\n",
    "    \"Beni Mazar\", \"Sharm El Sheikh\"\n",
    "]\n"
   ]
  }
 ],
 "metadata": {
  "kernelspec": {
   "display_name": "Python 3",
   "language": "python",
   "name": "python3"
  },
  "language_info": {
   "codemirror_mode": {
    "name": "ipython",
    "version": 3
   },
   "file_extension": ".py",
   "mimetype": "text/x-python",
   "name": "python",
   "nbconvert_exporter": "python",
   "pygments_lexer": "ipython3",
   "version": "3.11.0"
  }
 },
 "nbformat": 4,
 "nbformat_minor": 2
}
